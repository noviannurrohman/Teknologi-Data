{
  "nbformat": 4,
  "nbformat_minor": 0,
  "metadata": {
    "colab": {
      "name": "week3-1841720095-10.ipynb",
      "provenance": [],
      "authorship_tag": "ABX9TyMUz+7nyqB3POmqXXknZ+M7",
      "include_colab_link": true
    },
    "kernelspec": {
      "name": "python3",
      "display_name": "Python 3"
    }
  },
  "cells": [
    {
      "cell_type": "markdown",
      "metadata": {
        "id": "view-in-github",
        "colab_type": "text"
      },
      "source": [
        "<a href=\"https://colab.research.google.com/github/noviannurrohman/TeknologiData-smt6/blob/main/week3_1841720095_10.ipynb\" target=\"_parent\"><img src=\"https://colab.research.google.com/assets/colab-badge.svg\" alt=\"Open In Colab\"/></a>"
      ]
    },
    {
      "cell_type": "code",
      "metadata": {
        "colab": {
          "base_uri": "https://localhost:8080/"
        },
        "id": "hUfDcfiSuBF_",
        "outputId": "9d6413e4-7fb4-482b-ce32-f4a4fc01ad2f"
      },
      "source": [
        "nama = 'Sabine'\r\n",
        "kalimat = \"This is a sentance.\"\r\n",
        "Paragraf = \"\"\"This is a paragraph.\r\n",
        "Paragraph are made up of several lines and sentence. \"\"\"\r\n",
        "\r\n",
        "print(nama)\r\n",
        "print(kalimat)\r\n",
        "print(Paragraf)\r\n",
        "\r\n",
        "print(nama[0:5])\r\n",
        "print(nama[2:])\r\n",
        "print(kalimat[-8:-1])"
      ],
      "execution_count": 1,
      "outputs": [
        {
          "output_type": "stream",
          "text": [
            "Sabine\n",
            "This is a sentance.\n",
            "This is a paragraph.\n",
            "Paragraph are made up of several lines and sentence. \n",
            "Sabin\n",
            "bine\n",
            "entance\n"
          ],
          "name": "stdout"
        }
      ]
    }
  ]
}