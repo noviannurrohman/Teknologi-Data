{
  "nbformat": 4,
  "nbformat_minor": 0,
  "metadata": {
    "colab": {
      "name": "week3-1841720095-4.ipynb",
      "provenance": [],
      "authorship_tag": "ABX9TyPj914ciHGSgkR/ERubNdQe",
      "include_colab_link": true
    },
    "kernelspec": {
      "name": "python3",
      "display_name": "Python 3"
    }
  },
  "cells": [
    {
      "cell_type": "markdown",
      "metadata": {
        "id": "view-in-github",
        "colab_type": "text"
      },
      "source": [
        "<a href=\"https://colab.research.google.com/github/noviannurrohman/TeknologiData-smt6/blob/main/week3_1841720095_4.ipynb\" target=\"_parent\"><img src=\"https://colab.research.google.com/assets/colab-badge.svg\" alt=\"Open In Colab\"/></a>"
      ]
    },
    {
      "cell_type": "code",
      "metadata": {
        "colab": {
          "base_uri": "https://localhost:8080/"
        },
        "id": "V5ZJ8e28rT64",
        "outputId": "c7517927-cb05-449f-ca27-4dd6c781de8c"
      },
      "source": [
        "x = 100; y=150; z=22.56; hasil = x+2*y*z\r\n",
        "print(hasil)"
      ],
      "execution_count": 2,
      "outputs": [
        {
          "output_type": "stream",
          "text": [
            "6868.0\n"
          ],
          "name": "stdout"
        }
      ]
    }
  ]
}