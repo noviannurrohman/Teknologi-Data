{
  "nbformat": 4,
  "nbformat_minor": 0,
  "metadata": {
    "colab": {
      "name": "week3-1841720095-7.ipynb",
      "provenance": [],
      "authorship_tag": "ABX9TyPNqrDDKWIzIRbgV7gc0k8D",
      "include_colab_link": true
    },
    "kernelspec": {
      "name": "python3",
      "display_name": "Python 3"
    }
  },
  "cells": [
    {
      "cell_type": "markdown",
      "metadata": {
        "id": "view-in-github",
        "colab_type": "text"
      },
      "source": [
        "<a href=\"https://colab.research.google.com/github/noviannurrohman/TeknologiData-smt6/blob/main/week3_1841720095_7.ipynb\" target=\"_parent\"><img src=\"https://colab.research.google.com/assets/colab-badge.svg\" alt=\"Open In Colab\"/></a>"
      ]
    },
    {
      "cell_type": "code",
      "metadata": {
        "colab": {
          "base_uri": "https://localhost:8080/"
        },
        "id": "yEcKl-SCtB_a",
        "outputId": "3709b732-13ea-49a6-ed8f-3baf63921b25"
      },
      "source": [
        "print(True or False) #output : True\r\n",
        "print(True and False) #output : False\r\n",
        "print ( 100 > 200) #outpt : False \r\n",
        "\r\n",
        "a=9\r\n",
        "print ( a>0 ) #output : True\r\n",
        "\r\n",
        "b=10\r\n",
        "print ( a>b ) #output : False"
      ],
      "execution_count": 1,
      "outputs": [
        {
          "output_type": "stream",
          "text": [
            "True\n",
            "False\n",
            "False\n",
            "True\n",
            "False\n"
          ],
          "name": "stdout"
        }
      ]
    }
  ]
}