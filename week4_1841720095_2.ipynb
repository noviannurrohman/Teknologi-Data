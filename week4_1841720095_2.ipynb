{
  "nbformat": 4,
  "nbformat_minor": 0,
  "metadata": {
    "colab": {
      "name": "week4-1841720095-2.ipynb",
      "provenance": [],
      "authorship_tag": "ABX9TyPlpzDF5KCRjOsNWIJvpvkT",
      "include_colab_link": true
    },
    "kernelspec": {
      "name": "python3",
      "display_name": "Python 3"
    }
  },
  "cells": [
    {
      "cell_type": "markdown",
      "metadata": {
        "id": "view-in-github",
        "colab_type": "text"
      },
      "source": [
        "<a href=\"https://colab.research.google.com/github/noviannurrohman/TeknologiData-smt6/blob/main/week4_1841720095_2.ipynb\" target=\"_parent\"><img src=\"https://colab.research.google.com/assets/colab-badge.svg\" alt=\"Open In Colab\"/></a>"
      ]
    },
    {
      "cell_type": "code",
      "metadata": {
        "colab": {
          "base_uri": "https://localhost:8080/"
        },
        "id": "QsUNEUighPdE",
        "outputId": "ebc1b376-c95f-40c6-beeb-ca65ca1576c4"
      },
      "source": [
        "from google.colab import drive\r\n",
        "drive.mount('/content/drive')"
      ],
      "execution_count": 1,
      "outputs": [
        {
          "output_type": "stream",
          "text": [
            "Mounted at /content/drive\n"
          ],
          "name": "stdout"
        }
      ]
    },
    {
      "cell_type": "code",
      "metadata": {
        "colab": {
          "base_uri": "https://localhost:8080/"
        },
        "id": "RKq18qybhi6H",
        "outputId": "c0110555-37d3-47af-d005-152cd253d78a"
      },
      "source": [
        "import pandas as pd\r\n",
        "\r\n",
        "df = pd.read_csv('/content/drive/MyDrive/TDATA/fifa.csv')\r\n",
        "df.info()"
      ],
      "execution_count": 2,
      "outputs": [
        {
          "output_type": "stream",
          "text": [
            "<class 'pandas.core.frame.DataFrame'>\n",
            "RangeIndex: 286 entries, 0 to 285\n",
            "Data columns (total 7 columns):\n",
            " #   Column  Non-Null Count  Dtype  \n",
            "---  ------  --------------  -----  \n",
            " 0   Date    286 non-null    object \n",
            " 1   ARG     286 non-null    float64\n",
            " 2   BRA     286 non-null    float64\n",
            " 3   ESP     286 non-null    float64\n",
            " 4   FRA     286 non-null    float64\n",
            " 5   GER     286 non-null    float64\n",
            " 6   ITA     286 non-null    float64\n",
            "dtypes: float64(6), object(1)\n",
            "memory usage: 15.8+ KB\n"
          ],
          "name": "stdout"
        }
      ]
    }
  ]
}