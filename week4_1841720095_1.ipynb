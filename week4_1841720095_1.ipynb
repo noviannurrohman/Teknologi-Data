{
  "nbformat": 4,
  "nbformat_minor": 0,
  "metadata": {
    "colab": {
      "name": "week4-1841720095-1.ipynb",
      "provenance": [],
      "authorship_tag": "ABX9TyOkUO/AvVPIgK239vT2Ecjc",
      "include_colab_link": true
    },
    "kernelspec": {
      "name": "python3",
      "display_name": "Python 3"
    }
  },
  "cells": [
    {
      "cell_type": "markdown",
      "metadata": {
        "id": "view-in-github",
        "colab_type": "text"
      },
      "source": [
        "<a href=\"https://colab.research.google.com/github/noviannurrohman/TeknologiData-smt6/blob/main/week4_1841720095_1.ipynb\" target=\"_parent\"><img src=\"https://colab.research.google.com/assets/colab-badge.svg\" alt=\"Open In Colab\"/></a>"
      ]
    },
    {
      "cell_type": "code",
      "metadata": {
        "colab": {
          "base_uri": "https://localhost:8080/"
        },
        "id": "AXpaZVLagt98",
        "outputId": "b93bf892-340d-46f9-e09f-07d861421840"
      },
      "source": [
        "from google.colab import drive\r\n",
        "drive.mount('/content/drive')"
      ],
      "execution_count": 1,
      "outputs": [
        {
          "output_type": "stream",
          "text": [
            "Mounted at /content/drive\n"
          ],
          "name": "stdout"
        }
      ]
    },
    {
      "cell_type": "code",
      "metadata": {
        "colab": {
          "base_uri": "https://localhost:8080/"
        },
        "id": "9J4_uHQvg8-f",
        "outputId": "61b33895-d56d-4195-d3a7-96a8ec49612f"
      },
      "source": [
        "import pandas as pd\r\n",
        "\r\n",
        "df= pd.read_excel('/content/drive/MyDrive/TDATA/OnlineRetail.xlsx')\r\n",
        "df.info()"
      ],
      "execution_count": 2,
      "outputs": [
        {
          "output_type": "stream",
          "text": [
            "<class 'pandas.core.frame.DataFrame'>\n",
            "RangeIndex: 207719 entries, 0 to 207718\n",
            "Data columns (total 8 columns):\n",
            " #   Column       Non-Null Count   Dtype         \n",
            "---  ------       --------------   -----         \n",
            " 0   InvoiceNo    207719 non-null  object        \n",
            " 1   StockCode    207719 non-null  object        \n",
            " 2   Description  206886 non-null  object        \n",
            " 3   Quantity     207719 non-null  int64         \n",
            " 4   InvoiceDate  207719 non-null  datetime64[ns]\n",
            " 5   UnitPrice    207719 non-null  float64       \n",
            " 6   CustomerID   148101 non-null  float64       \n",
            " 7   Country      207719 non-null  object        \n",
            "dtypes: datetime64[ns](1), float64(2), int64(1), object(4)\n",
            "memory usage: 12.7+ MB\n"
          ],
          "name": "stdout"
        }
      ]
    }
  ]
}