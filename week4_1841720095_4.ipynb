{
  "nbformat": 4,
  "nbformat_minor": 0,
  "metadata": {
    "colab": {
      "name": "week4-1841720095-4.ipynb",
      "provenance": [],
      "authorship_tag": "ABX9TyNRPePk2Od5mPxjziQExOu1",
      "include_colab_link": true
    },
    "kernelspec": {
      "name": "python3",
      "display_name": "Python 3"
    }
  },
  "cells": [
    {
      "cell_type": "markdown",
      "metadata": {
        "id": "view-in-github",
        "colab_type": "text"
      },
      "source": [
        "<a href=\"https://colab.research.google.com/github/noviannurrohman/TeknologiData-smt6/blob/main/week4_1841720095_4.ipynb\" target=\"_parent\"><img src=\"https://colab.research.google.com/assets/colab-badge.svg\" alt=\"Open In Colab\"/></a>"
      ]
    },
    {
      "cell_type": "code",
      "metadata": {
        "colab": {
          "base_uri": "https://localhost:8080/"
        },
        "id": "JqV0U3TJiIw8",
        "outputId": "5185583a-ea91-44c7-e578-70b279a238a6"
      },
      "source": [
        "from google.colab import drive\r\n",
        "drive.mount('/content/drive')"
      ],
      "execution_count": 1,
      "outputs": [
        {
          "output_type": "stream",
          "text": [
            "Mounted at /content/drive\n"
          ],
          "name": "stdout"
        }
      ]
    },
    {
      "cell_type": "code",
      "metadata": {
        "colab": {
          "base_uri": "https://localhost:8080/"
        },
        "id": "PPbFk_IMiZiu",
        "outputId": "97e98fb1-2e58-4bdd-a449-eb80cbb826d3"
      },
      "source": [
        "import pandas as pd\r\n",
        "\r\n",
        "df = pd.read_csv('/content/drive/MyDrive/TDATA/fifa.csv')\r\n",
        "df.info()\r\n",
        "\r\n",
        "df.set_index('Date', inplace=True)\r\n",
        "df.info()\r\n",
        "\r\n",
        "print(df.head())"
      ],
      "execution_count": 2,
      "outputs": [
        {
          "output_type": "stream",
          "text": [
            "<class 'pandas.core.frame.DataFrame'>\n",
            "RangeIndex: 286 entries, 0 to 285\n",
            "Data columns (total 7 columns):\n",
            " #   Column  Non-Null Count  Dtype  \n",
            "---  ------  --------------  -----  \n",
            " 0   Date    286 non-null    object \n",
            " 1   ARG     286 non-null    float64\n",
            " 2   BRA     286 non-null    float64\n",
            " 3   ESP     286 non-null    float64\n",
            " 4   FRA     286 non-null    float64\n",
            " 5   GER     286 non-null    float64\n",
            " 6   ITA     286 non-null    float64\n",
            "dtypes: float64(6), object(1)\n",
            "memory usage: 15.8+ KB\n",
            "<class 'pandas.core.frame.DataFrame'>\n",
            "Index: 286 entries, 1993-08-08 to 2018-06-07\n",
            "Data columns (total 6 columns):\n",
            " #   Column  Non-Null Count  Dtype  \n",
            "---  ------  --------------  -----  \n",
            " 0   ARG     286 non-null    float64\n",
            " 1   BRA     286 non-null    float64\n",
            " 2   ESP     286 non-null    float64\n",
            " 3   FRA     286 non-null    float64\n",
            " 4   GER     286 non-null    float64\n",
            " 5   ITA     286 non-null    float64\n",
            "dtypes: float64(6)\n",
            "memory usage: 15.6+ KB\n",
            "             ARG  BRA   ESP   FRA  GER  ITA\n",
            "Date                                       \n",
            "1993-08-08   5.0  8.0  13.0  12.0  1.0  2.0\n",
            "1993-09-23  12.0  1.0  14.0   7.0  5.0  2.0\n",
            "1993-10-22   9.0  1.0   7.0  14.0  4.0  3.0\n",
            "1993-11-19   9.0  4.0   7.0  15.0  3.0  1.0\n",
            "1993-12-23   8.0  3.0   5.0  15.0  1.0  2.0\n"
          ],
          "name": "stdout"
        }
      ]
    }
  ]
}