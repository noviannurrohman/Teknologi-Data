{
  "nbformat": 4,
  "nbformat_minor": 0,
  "metadata": {
    "colab": {
      "name": "week3-1841720095-13.ipynb",
      "provenance": [],
      "authorship_tag": "ABX9TyM3YO5CXHBYrddasDfY9EhM",
      "include_colab_link": true
    },
    "kernelspec": {
      "name": "python3",
      "display_name": "Python 3"
    }
  },
  "cells": [
    {
      "cell_type": "markdown",
      "metadata": {
        "id": "view-in-github",
        "colab_type": "text"
      },
      "source": [
        "<a href=\"https://colab.research.google.com/github/noviannurrohman/TeknologiData-smt6/blob/main/week3_1841720095_13.ipynb\" target=\"_parent\"><img src=\"https://colab.research.google.com/assets/colab-badge.svg\" alt=\"Open In Colab\"/></a>"
      ]
    },
    {
      "cell_type": "code",
      "metadata": {
        "colab": {
          "base_uri": "https://localhost:8080/"
        },
        "id": "QL99RuR4vfAf",
        "outputId": "823ce133-6fca-43ee-82f9-238fb2f9eee2"
      },
      "source": [
        "s = \"SaMurai\"\r\n",
        "s.lower()\r\n",
        "print(s)\r\n",
        "s2 = s.lower()\r\n",
        "print(s2)\r\n",
        "\r\n",
        "name = input('What is your name? ')\r\n",
        "\r\n",
        "print('Hi ' + name + '!')"
      ],
      "execution_count": 1,
      "outputs": [
        {
          "output_type": "stream",
          "text": [
            "SaMurai\n",
            "samurai\n",
            "What is your name? Samurai\n",
            "Hi Samurai!\n"
          ],
          "name": "stdout"
        }
      ]
    }
  ]
}