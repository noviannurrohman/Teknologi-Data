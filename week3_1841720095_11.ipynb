{
  "nbformat": 4,
  "nbformat_minor": 0,
  "metadata": {
    "colab": {
      "name": "week3-1841720095-11.ipynb",
      "provenance": [],
      "authorship_tag": "ABX9TyPvWPZBE+H+e2m7B8BCpswp",
      "include_colab_link": true
    },
    "kernelspec": {
      "name": "python3",
      "display_name": "Python 3"
    }
  },
  "cells": [
    {
      "cell_type": "markdown",
      "metadata": {
        "id": "view-in-github",
        "colab_type": "text"
      },
      "source": [
        "<a href=\"https://colab.research.google.com/github/noviannurrohman/TeknologiData-smt6/blob/main/week3_1841720095_11.ipynb\" target=\"_parent\"><img src=\"https://colab.research.google.com/assets/colab-badge.svg\" alt=\"Open In Colab\"/></a>"
      ]
    },
    {
      "cell_type": "code",
      "metadata": {
        "colab": {
          "base_uri": "https://localhost:8080/"
        },
        "id": "LXWAeIUvuVDb",
        "outputId": "c5e20188-739a-4eb0-bbe6-5898f8046e43"
      },
      "source": [
        "myStr = 'Hello, Surabaya'\r\n",
        "print(len(myStr))\r\n",
        "\r\n",
        "pegawai = 'Sabine'\r\n",
        "print (\"nama: \" , pegawai)\r\n",
        "print(\"pass\" + \"word\")\r\n",
        "\r\n",
        "#age = 35\r\n",
        "#myText = 'Age is '\r\n",
        "#print(myText + age) #Error\r\n",
        "\r\n",
        "age = 35\r\n",
        "myText = 'Age is'\r\n",
        "print(myText + str(age))\r\n",
        "\r\n",
        "print(\"Python \" * 3)"
      ],
      "execution_count": 1,
      "outputs": [
        {
          "output_type": "stream",
          "text": [
            "15\n",
            "nama:  Sabine\n",
            "password\n",
            "Age is35\n",
            "Python Python Python \n"
          ],
          "name": "stdout"
        }
      ]
    }
  ]
}