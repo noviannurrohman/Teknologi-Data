{
  "nbformat": 4,
  "nbformat_minor": 0,
  "metadata": {
    "colab": {
      "name": "week3-1841720095-9.ipynb",
      "provenance": [],
      "authorship_tag": "ABX9TyMRxwTboWjC2tdEUxh5BqM1",
      "include_colab_link": true
    },
    "kernelspec": {
      "name": "python3",
      "display_name": "Python 3"
    }
  },
  "cells": [
    {
      "cell_type": "markdown",
      "metadata": {
        "id": "view-in-github",
        "colab_type": "text"
      },
      "source": [
        "<a href=\"https://colab.research.google.com/github/noviannurrohman/TeknologiData-smt6/blob/main/week3_1841720095_9.ipynb\" target=\"_parent\"><img src=\"https://colab.research.google.com/assets/colab-badge.svg\" alt=\"Open In Colab\"/></a>"
      ]
    },
    {
      "cell_type": "code",
      "metadata": {
        "colab": {
          "base_uri": "https://localhost:8080/"
        },
        "id": "oxoJHyjvtljZ",
        "outputId": "68b81da5-6615-4865-ee09-6d4bdb8c8311"
      },
      "source": [
        "name = input('What is your name? ')\r\n",
        "\r\n",
        "print('Hi ' + name + '!')"
      ],
      "execution_count": 1,
      "outputs": [
        {
          "output_type": "stream",
          "text": [
            "What is your name? python\n",
            "Hi python!\n"
          ],
          "name": "stdout"
        }
      ]
    }
  ]
}