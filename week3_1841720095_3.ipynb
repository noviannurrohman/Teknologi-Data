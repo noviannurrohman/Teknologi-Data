{
  "nbformat": 4,
  "nbformat_minor": 0,
  "metadata": {
    "colab": {
      "name": "week3-1841720095-3.ipynb",
      "provenance": [],
      "authorship_tag": "ABX9TyPQDFUGnFCZ3wdVjRnSnxIe",
      "include_colab_link": true
    },
    "kernelspec": {
      "name": "python3",
      "display_name": "Python 3"
    }
  },
  "cells": [
    {
      "cell_type": "markdown",
      "metadata": {
        "id": "view-in-github",
        "colab_type": "text"
      },
      "source": [
        "<a href=\"https://colab.research.google.com/github/noviannurrohman/TeknologiData-smt6/blob/main/week3_1841720095_3.ipynb\" target=\"_parent\"><img src=\"https://colab.research.google.com/assets/colab-badge.svg\" alt=\"Open In Colab\"/></a>"
      ]
    },
    {
      "cell_type": "code",
      "metadata": {
        "colab": {
          "base_uri": "https://localhost:8080/"
        },
        "id": "atFF7rIgpkEr",
        "outputId": "3420a208-113e-4b86-d095-870bef5433f7"
      },
      "source": [
        "cabang = ['Jakarta','Bogor','Bandung','Solo','Malang',\r\n",
        "          'Surabaya','Banyuwangi','Denpasar','Makassar']\r\n",
        "print (cabang)"
      ],
      "execution_count": 1,
      "outputs": [
        {
          "output_type": "stream",
          "text": [
            "['Jakarta', 'Bogor', 'Bandung', 'Solo', 'Malang', 'Surabaya', 'Banyuwangi', 'Denpasar', 'Makassar']\n"
          ],
          "name": "stdout"
        }
      ]
    }
  ]
}