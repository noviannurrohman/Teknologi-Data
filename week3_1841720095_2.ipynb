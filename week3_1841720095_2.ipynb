{
  "nbformat": 4,
  "nbformat_minor": 0,
  "metadata": {
    "colab": {
      "name": "week3-1841720095-2.ipynb",
      "provenance": [],
      "authorship_tag": "ABX9TyPLsEb3m+qzEIIzv7bb1SEI",
      "include_colab_link": true
    },
    "kernelspec": {
      "name": "python3",
      "display_name": "Python 3"
    }
  },
  "cells": [
    {
      "cell_type": "markdown",
      "metadata": {
        "id": "view-in-github",
        "colab_type": "text"
      },
      "source": [
        "<a href=\"https://colab.research.google.com/github/noviannurrohman/TeknologiData-smt6/blob/main/week3_1841720095_2.ipynb\" target=\"_parent\"><img src=\"https://colab.research.google.com/assets/colab-badge.svg\" alt=\"Open In Colab\"/></a>"
      ]
    },
    {
      "cell_type": "code",
      "metadata": {
        "colab": {
          "base_uri": "https://localhost:8080/"
        },
        "id": "qJPpbyE0pEvg",
        "outputId": "6c8939c7-1667-4113-898f-9aff4be7011e"
      },
      "source": [
        "nilai1 = 10\r\n",
        "nilai2 = 20\r\n",
        "nilai3 = 100\r\n",
        "total = nilai1 + nilai2 \\\r\n",
        "+nilai3\r\n",
        "print(total)"
      ],
      "execution_count": 1,
      "outputs": [
        {
          "output_type": "stream",
          "text": [
            "130\n"
          ],
          "name": "stdout"
        }
      ]
    }
  ]
}