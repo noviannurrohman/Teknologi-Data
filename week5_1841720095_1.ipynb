{
  "nbformat": 4,
  "nbformat_minor": 0,
  "metadata": {
    "colab": {
      "name": "week5_1841720095_1.ipynb",
      "provenance": [],
      "authorship_tag": "ABX9TyM7qbAdg5jenP3agroehDGP",
      "include_colab_link": true
    },
    "kernelspec": {
      "name": "python3",
      "display_name": "Python 3"
    },
    "language_info": {
      "name": "python"
    }
  },
  "cells": [
    {
      "cell_type": "markdown",
      "metadata": {
        "id": "view-in-github",
        "colab_type": "text"
      },
      "source": [
        "<a href=\"https://colab.research.google.com/github/noviannurrohman/TeknologiData-smt6/blob/main/week5_1841720095_1.ipynb\" target=\"_parent\"><img src=\"https://colab.research.google.com/assets/colab-badge.svg\" alt=\"Open In Colab\"/></a>"
      ]
    },
    {
      "cell_type": "markdown",
      "metadata": {
        "id": "F0Pedm15PkEF"
      },
      "source": [
        "**Import Dataset**"
      ]
    },
    {
      "cell_type": "code",
      "metadata": {
        "colab": {
          "base_uri": "https://localhost:8080/"
        },
        "id": "X4jD7J4dO4cj",
        "outputId": "725d16e2-6e41-4186-8da8-1de46dd04f19"
      },
      "source": [
        "from google.colab import drive\n",
        "drive.mount('/content/drive')"
      ],
      "execution_count": 1,
      "outputs": [
        {
          "output_type": "stream",
          "text": [
            "Mounted at /content/drive\n"
          ],
          "name": "stdout"
        }
      ]
    },
    {
      "cell_type": "code",
      "metadata": {
        "id": "w4VgbIwFPfKF"
      },
      "source": [
        "import numpy as np \n",
        "import pandas as pd\n",
        "import matplotlib.pyplot as plt\n",
        "import seaborn as sns \n",
        "\n",
        "%matplotlib inline"
      ],
      "execution_count": 2,
      "outputs": []
    },
    {
      "cell_type": "code",
      "metadata": {
        "id": "DTmKTuJvPses"
      },
      "source": [
        "df = pd.read_csv('/content/drive/MyDrive/TDATA/dataset/BreadBasket_DMS.csv')"
      ],
      "execution_count": 4,
      "outputs": []
    },
    {
      "cell_type": "markdown",
      "metadata": {
        "id": "K2Qms2UhQMBb"
      },
      "source": [
        "**Get Distinct/Unique Value**"
      ]
    },
    {
      "cell_type": "code",
      "metadata": {
        "colab": {
          "base_uri": "https://localhost:8080/"
        },
        "id": "leI7LIuHQOMg",
        "outputId": "75f61beb-a821-443b-c381-ca5334fb9e46"
      },
      "source": [
        "df.Item.unique()"
      ],
      "execution_count": 5,
      "outputs": [
        {
          "output_type": "execute_result",
          "data": {
            "text/plain": [
              "array(['Bread', 'Scandinavian', 'Hot chocolate', 'Jam', 'Cookies',\n",
              "       'Muffin', 'Coffee', 'Pastry', 'Medialuna', 'Tea', 'NONE',\n",
              "       'Tartine', 'Basket', 'Mineral water', 'Farm House', 'Fudge',\n",
              "       'Juice', \"Ella's Kitchen Pouches\", 'Victorian Sponge', 'Frittata',\n",
              "       'Hearty & Seasonal', 'Soup', 'Pick and Mix Bowls', 'Smoothies',\n",
              "       'Cake', 'Mighty Protein', 'Chicken sand', 'Coke',\n",
              "       'My-5 Fruit Shoot', 'Focaccia', 'Sandwich', 'Alfajores', 'Eggs',\n",
              "       'Brownie', 'Dulce de Leche', 'Honey', 'The BART', 'Granola',\n",
              "       'Fairy Doors', 'Empanadas', 'Keeping It Local', 'Art Tray',\n",
              "       'Bowl Nic Pitt', 'Bread Pudding', 'Adjustment', 'Truffles',\n",
              "       'Chimichurri Oil', 'Bacon', 'Spread', 'Kids biscuit', 'Siblings',\n",
              "       'Caramel bites', 'Jammie Dodgers', 'Tiffin', 'Olum & polenta',\n",
              "       'Polenta', 'The Nomad', 'Hack the stack', 'Bakewell',\n",
              "       'Lemon and coconut', 'Toast', 'Scone', 'Crepes', 'Vegan mincepie',\n",
              "       'Bare Popcorn', 'Muesli', 'Crisps', 'Pintxos', 'Gingerbread syrup',\n",
              "       'Panatone', 'Brioche and salami', 'Afternoon with the baker',\n",
              "       'Salad', 'Chicken Stew', 'Spanish Brunch',\n",
              "       'Raspberry shortbread sandwich', 'Extra Salami or Feta',\n",
              "       'Duck egg', 'Baguette', \"Valentine's card\", 'Tshirt',\n",
              "       'Vegan Feast', 'Postcard', 'Nomad bag', 'Chocolates',\n",
              "       'Coffee granules ', 'Drinking chocolate spoons ',\n",
              "       'Christmas common', 'Argentina Night', 'Half slice Monster ',\n",
              "       'Gift voucher', 'Cherry me Dried fruit', 'Mortimer', 'Raw bars',\n",
              "       'Tacos/Fajita'], dtype=object)"
            ]
          },
          "metadata": {
            "tags": []
          },
          "execution_count": 5
        }
      ]
    },
    {
      "cell_type": "code",
      "metadata": {
        "colab": {
          "base_uri": "https://localhost:8080/"
        },
        "id": "cmXc2vNrQTwv",
        "outputId": "ed8260e7-3461-4daf-862c-8b63a9f077cc"
      },
      "source": [
        "len(df['Item'].unique())"
      ],
      "execution_count": 6,
      "outputs": [
        {
          "output_type": "execute_result",
          "data": {
            "text/plain": [
              "95"
            ]
          },
          "metadata": {
            "tags": []
          },
          "execution_count": 6
        }
      ]
    },
    {
      "cell_type": "markdown",
      "metadata": {
        "id": "SiyykZgzQYG4"
      },
      "source": [
        "**Displaying Unique Item by Removing Duplicates Data in a Column**"
      ]
    },
    {
      "cell_type": "code",
      "metadata": {
        "colab": {
          "base_uri": "https://localhost:8080/"
        },
        "id": "49sbxc7RQatZ",
        "outputId": "975434b7-1422-48fd-ba06-62f5ace784b1"
      },
      "source": [
        "df.Item.drop_duplicates()"
      ],
      "execution_count": 7,
      "outputs": [
        {
          "output_type": "execute_result",
          "data": {
            "text/plain": [
              "0                        Bread\n",
              "1                 Scandinavian\n",
              "3                Hot chocolate\n",
              "4                          Jam\n",
              "5                      Cookies\n",
              "                 ...          \n",
              "17828             Gift voucher\n",
              "18035    Cherry me Dried fruit\n",
              "18111                 Mortimer\n",
              "19801                 Raw bars\n",
              "21096             Tacos/Fajita\n",
              "Name: Item, Length: 95, dtype: object"
            ]
          },
          "metadata": {
            "tags": []
          },
          "execution_count": 7
        }
      ]
    },
    {
      "cell_type": "code",
      "metadata": {
        "colab": {
          "base_uri": "https://localhost:8080/",
          "height": 136
        },
        "id": "oevdyjxlQdeO",
        "outputId": "88645eb3-7f8f-4cad-bd60-468ef4eb3918"
      },
      "source": [
        "df.head(3)"
      ],
      "execution_count": 8,
      "outputs": [
        {
          "output_type": "execute_result",
          "data": {
            "text/html": [
              "<div>\n",
              "<style scoped>\n",
              "    .dataframe tbody tr th:only-of-type {\n",
              "        vertical-align: middle;\n",
              "    }\n",
              "\n",
              "    .dataframe tbody tr th {\n",
              "        vertical-align: top;\n",
              "    }\n",
              "\n",
              "    .dataframe thead th {\n",
              "        text-align: right;\n",
              "    }\n",
              "</style>\n",
              "<table border=\"1\" class=\"dataframe\">\n",
              "  <thead>\n",
              "    <tr style=\"text-align: right;\">\n",
              "      <th></th>\n",
              "      <th>Date</th>\n",
              "      <th>Time</th>\n",
              "      <th>Transaction</th>\n",
              "      <th>Item</th>\n",
              "    </tr>\n",
              "  </thead>\n",
              "  <tbody>\n",
              "    <tr>\n",
              "      <th>0</th>\n",
              "      <td>2016-10-30</td>\n",
              "      <td>09:58:11</td>\n",
              "      <td>1</td>\n",
              "      <td>Bread</td>\n",
              "    </tr>\n",
              "    <tr>\n",
              "      <th>1</th>\n",
              "      <td>2016-10-30</td>\n",
              "      <td>10:05:34</td>\n",
              "      <td>2</td>\n",
              "      <td>Scandinavian</td>\n",
              "    </tr>\n",
              "    <tr>\n",
              "      <th>2</th>\n",
              "      <td>2016-10-30</td>\n",
              "      <td>10:05:34</td>\n",
              "      <td>2</td>\n",
              "      <td>Scandinavian</td>\n",
              "    </tr>\n",
              "  </tbody>\n",
              "</table>\n",
              "</div>"
            ],
            "text/plain": [
              "         Date      Time  Transaction          Item\n",
              "0  2016-10-30  09:58:11            1         Bread\n",
              "1  2016-10-30  10:05:34            2  Scandinavian\n",
              "2  2016-10-30  10:05:34            2  Scandinavian"
            ]
          },
          "metadata": {
            "tags": []
          },
          "execution_count": 8
        }
      ]
    },
    {
      "cell_type": "markdown",
      "metadata": {
        "id": "6y2nN7AKQhGE"
      },
      "source": [
        "**Display Unique Value and Its Total Count**"
      ]
    },
    {
      "cell_type": "code",
      "metadata": {
        "colab": {
          "base_uri": "https://localhost:8080/"
        },
        "id": "E28x0ATbQjgJ",
        "outputId": "07671a06-3fe1-4153-e54a-85f59334133d"
      },
      "source": [
        "topten = df.Item.value_counts()\n",
        "topten.head(10)"
      ],
      "execution_count": 9,
      "outputs": [
        {
          "output_type": "execute_result",
          "data": {
            "text/plain": [
              "Coffee           5471\n",
              "Bread            3325\n",
              "Tea              1435\n",
              "Cake             1025\n",
              "Pastry            856\n",
              "NONE              786\n",
              "Sandwich          771\n",
              "Medialuna         616\n",
              "Hot chocolate     590\n",
              "Cookies           540\n",
              "Name: Item, dtype: int64"
            ]
          },
          "metadata": {
            "tags": []
          },
          "execution_count": 9
        }
      ]
    },
    {
      "cell_type": "markdown",
      "metadata": {
        "id": "2hpy4uVkQuiM"
      },
      "source": [
        "**Missing Observation**"
      ]
    },
    {
      "cell_type": "code",
      "metadata": {
        "colab": {
          "base_uri": "https://localhost:8080/"
        },
        "id": "SJ70Khr-Qwla",
        "outputId": "ca957f57-5cb0-47e9-99da-c8992058536b"
      },
      "source": [
        "topten = df.Item.value_counts()\n",
        "topten.head(10)"
      ],
      "execution_count": 10,
      "outputs": [
        {
          "output_type": "execute_result",
          "data": {
            "text/plain": [
              "Coffee           5471\n",
              "Bread            3325\n",
              "Tea              1435\n",
              "Cake             1025\n",
              "Pastry            856\n",
              "NONE              786\n",
              "Sandwich          771\n",
              "Medialuna         616\n",
              "Hot chocolate     590\n",
              "Cookies           540\n",
              "Name: Item, dtype: int64"
            ]
          },
          "metadata": {
            "tags": []
          },
          "execution_count": 10
        }
      ]
    },
    {
      "cell_type": "markdown",
      "metadata": {
        "id": "vv7kCWP2QzPY"
      },
      "source": [
        "**Drop Remove Row from Data Frame**"
      ]
    },
    {
      "cell_type": "code",
      "metadata": {
        "colab": {
          "base_uri": "https://localhost:8080/"
        },
        "id": "RFbFt9VWQ3Jh",
        "outputId": "9cb093d9-94d9-4cec-fd01-fcd1b3fd739f"
      },
      "source": [
        "df = df[df['Item'] != 'NONE']\n",
        "df.info()"
      ],
      "execution_count": 11,
      "outputs": [
        {
          "output_type": "stream",
          "text": [
            "<class 'pandas.core.frame.DataFrame'>\n",
            "Int64Index: 20507 entries, 0 to 21292\n",
            "Data columns (total 4 columns):\n",
            " #   Column       Non-Null Count  Dtype \n",
            "---  ------       --------------  ----- \n",
            " 0   Date         20507 non-null  object\n",
            " 1   Time         20507 non-null  object\n",
            " 2   Transaction  20507 non-null  int64 \n",
            " 3   Item         20507 non-null  object\n",
            "dtypes: int64(1), object(3)\n",
            "memory usage: 801.1+ KB\n"
          ],
          "name": "stdout"
        }
      ]
    },
    {
      "cell_type": "code",
      "metadata": {
        "colab": {
          "base_uri": "https://localhost:8080/"
        },
        "id": "BNgWE37hQ5xa",
        "outputId": "af5dd457-61b1-4b55-e362-0d17d1c2dca1"
      },
      "source": [
        "print(\"Number of unique item:\", df.Item.nunique())\n",
        "len(df['Item'].unique())"
      ],
      "execution_count": 12,
      "outputs": [
        {
          "output_type": "stream",
          "text": [
            "Number of unique item: 94\n"
          ],
          "name": "stdout"
        },
        {
          "output_type": "execute_result",
          "data": {
            "text/plain": [
              "94"
            ]
          },
          "metadata": {
            "tags": []
          },
          "execution_count": 12
        }
      ]
    },
    {
      "cell_type": "markdown",
      "metadata": {
        "id": "6TsLc19hQ7-D"
      },
      "source": [
        "**Split String in DataFrame**"
      ]
    },
    {
      "cell_type": "code",
      "metadata": {
        "colab": {
          "base_uri": "https://localhost:8080/",
          "height": 136
        },
        "id": "qq23sWHHQ_f7",
        "outputId": "5c71f91d-bc86-44a4-894f-dcdaa64df2aa"
      },
      "source": [
        "df.head(3)"
      ],
      "execution_count": 13,
      "outputs": [
        {
          "output_type": "execute_result",
          "data": {
            "text/html": [
              "<div>\n",
              "<style scoped>\n",
              "    .dataframe tbody tr th:only-of-type {\n",
              "        vertical-align: middle;\n",
              "    }\n",
              "\n",
              "    .dataframe tbody tr th {\n",
              "        vertical-align: top;\n",
              "    }\n",
              "\n",
              "    .dataframe thead th {\n",
              "        text-align: right;\n",
              "    }\n",
              "</style>\n",
              "<table border=\"1\" class=\"dataframe\">\n",
              "  <thead>\n",
              "    <tr style=\"text-align: right;\">\n",
              "      <th></th>\n",
              "      <th>Date</th>\n",
              "      <th>Time</th>\n",
              "      <th>Transaction</th>\n",
              "      <th>Item</th>\n",
              "    </tr>\n",
              "  </thead>\n",
              "  <tbody>\n",
              "    <tr>\n",
              "      <th>0</th>\n",
              "      <td>2016-10-30</td>\n",
              "      <td>09:58:11</td>\n",
              "      <td>1</td>\n",
              "      <td>Bread</td>\n",
              "    </tr>\n",
              "    <tr>\n",
              "      <th>1</th>\n",
              "      <td>2016-10-30</td>\n",
              "      <td>10:05:34</td>\n",
              "      <td>2</td>\n",
              "      <td>Scandinavian</td>\n",
              "    </tr>\n",
              "    <tr>\n",
              "      <th>2</th>\n",
              "      <td>2016-10-30</td>\n",
              "      <td>10:05:34</td>\n",
              "      <td>2</td>\n",
              "      <td>Scandinavian</td>\n",
              "    </tr>\n",
              "  </tbody>\n",
              "</table>\n",
              "</div>"
            ],
            "text/plain": [
              "         Date      Time  Transaction          Item\n",
              "0  2016-10-30  09:58:11            1         Bread\n",
              "1  2016-10-30  10:05:34            2  Scandinavian\n",
              "2  2016-10-30  10:05:34            2  Scandinavian"
            ]
          },
          "metadata": {
            "tags": []
          },
          "execution_count": 13
        }
      ]
    },
    {
      "cell_type": "markdown",
      "metadata": {
        "id": "Ck5D6_dHRIp0"
      },
      "source": [
        "**Split String and Add New Column to Data Frame**"
      ]
    },
    {
      "cell_type": "code",
      "metadata": {
        "colab": {
          "base_uri": "https://localhost:8080/"
        },
        "id": "4yRrKJU_RKQP",
        "outputId": "9c84f2e4-5938-4695-9159-899997757444"
      },
      "source": [
        "df['Year'] = df['Date'].str[0:4]\n",
        "df['Year'].head()"
      ],
      "execution_count": 14,
      "outputs": [
        {
          "output_type": "execute_result",
          "data": {
            "text/plain": [
              "0    2016\n",
              "1    2016\n",
              "2    2016\n",
              "3    2016\n",
              "4    2016\n",
              "Name: Year, dtype: object"
            ]
          },
          "metadata": {
            "tags": []
          },
          "execution_count": 14
        }
      ]
    },
    {
      "cell_type": "markdown",
      "metadata": {
        "id": "_Tc3W208RcnI"
      },
      "source": [
        "**Split String and Add New Column to Data Frame**"
      ]
    },
    {
      "cell_type": "code",
      "metadata": {
        "colab": {
          "base_uri": "https://localhost:8080/",
          "height": 195
        },
        "id": "5tPtUYV0Rd8K",
        "outputId": "82671902-353f-400d-abc6-91b21b859845"
      },
      "source": [
        "df['Year'] = df.Date.apply(lambda x: x.split('-')[0])\n",
        "df['Month'] = df.Date.apply(lambda x: x.split('-')[1])\n",
        "df['Day'] = df.Date.apply(lambda x: x.split('-')[2])\n",
        "df['Hour'] = df.Time.apply(lambda x: int(x.split(':')[0]))\n",
        "df.head()"
      ],
      "execution_count": 15,
      "outputs": [
        {
          "output_type": "execute_result",
          "data": {
            "text/html": [
              "<div>\n",
              "<style scoped>\n",
              "    .dataframe tbody tr th:only-of-type {\n",
              "        vertical-align: middle;\n",
              "    }\n",
              "\n",
              "    .dataframe tbody tr th {\n",
              "        vertical-align: top;\n",
              "    }\n",
              "\n",
              "    .dataframe thead th {\n",
              "        text-align: right;\n",
              "    }\n",
              "</style>\n",
              "<table border=\"1\" class=\"dataframe\">\n",
              "  <thead>\n",
              "    <tr style=\"text-align: right;\">\n",
              "      <th></th>\n",
              "      <th>Date</th>\n",
              "      <th>Time</th>\n",
              "      <th>Transaction</th>\n",
              "      <th>Item</th>\n",
              "      <th>Year</th>\n",
              "      <th>Month</th>\n",
              "      <th>Day</th>\n",
              "      <th>Hour</th>\n",
              "    </tr>\n",
              "  </thead>\n",
              "  <tbody>\n",
              "    <tr>\n",
              "      <th>0</th>\n",
              "      <td>2016-10-30</td>\n",
              "      <td>09:58:11</td>\n",
              "      <td>1</td>\n",
              "      <td>Bread</td>\n",
              "      <td>2016</td>\n",
              "      <td>10</td>\n",
              "      <td>30</td>\n",
              "      <td>9</td>\n",
              "    </tr>\n",
              "    <tr>\n",
              "      <th>1</th>\n",
              "      <td>2016-10-30</td>\n",
              "      <td>10:05:34</td>\n",
              "      <td>2</td>\n",
              "      <td>Scandinavian</td>\n",
              "      <td>2016</td>\n",
              "      <td>10</td>\n",
              "      <td>30</td>\n",
              "      <td>10</td>\n",
              "    </tr>\n",
              "    <tr>\n",
              "      <th>2</th>\n",
              "      <td>2016-10-30</td>\n",
              "      <td>10:05:34</td>\n",
              "      <td>2</td>\n",
              "      <td>Scandinavian</td>\n",
              "      <td>2016</td>\n",
              "      <td>10</td>\n",
              "      <td>30</td>\n",
              "      <td>10</td>\n",
              "    </tr>\n",
              "    <tr>\n",
              "      <th>3</th>\n",
              "      <td>2016-10-30</td>\n",
              "      <td>10:07:57</td>\n",
              "      <td>3</td>\n",
              "      <td>Hot chocolate</td>\n",
              "      <td>2016</td>\n",
              "      <td>10</td>\n",
              "      <td>30</td>\n",
              "      <td>10</td>\n",
              "    </tr>\n",
              "    <tr>\n",
              "      <th>4</th>\n",
              "      <td>2016-10-30</td>\n",
              "      <td>10:07:57</td>\n",
              "      <td>3</td>\n",
              "      <td>Jam</td>\n",
              "      <td>2016</td>\n",
              "      <td>10</td>\n",
              "      <td>30</td>\n",
              "      <td>10</td>\n",
              "    </tr>\n",
              "  </tbody>\n",
              "</table>\n",
              "</div>"
            ],
            "text/plain": [
              "         Date      Time  Transaction           Item  Year Month Day  Hour\n",
              "0  2016-10-30  09:58:11            1          Bread  2016    10  30     9\n",
              "1  2016-10-30  10:05:34            2   Scandinavian  2016    10  30    10\n",
              "2  2016-10-30  10:05:34            2   Scandinavian  2016    10  30    10\n",
              "3  2016-10-30  10:07:57            3  Hot chocolate  2016    10  30    10\n",
              "4  2016-10-30  10:07:57            3            Jam  2016    10  30    10"
            ]
          },
          "metadata": {
            "tags": []
          },
          "execution_count": 15
        }
      ]
    },
    {
      "cell_type": "markdown",
      "metadata": {
        "id": "YsbtlnPlRo6K"
      },
      "source": [
        "**Review Top 10 Unique Items**"
      ]
    },
    {
      "cell_type": "code",
      "metadata": {
        "colab": {
          "base_uri": "https://localhost:8080/"
        },
        "id": "c45f-MYvRqHU",
        "outputId": "9cd17dac-1f0d-4061-c629-610acf32cfbf"
      },
      "source": [
        "item_sales = df.Item.value_counts()\n",
        "topten = item_sales[:10]\n",
        "topten"
      ],
      "execution_count": 16,
      "outputs": [
        {
          "output_type": "execute_result",
          "data": {
            "text/plain": [
              "Coffee           5471\n",
              "Bread            3325\n",
              "Tea              1435\n",
              "Cake             1025\n",
              "Pastry            856\n",
              "Sandwich          771\n",
              "Medialuna         616\n",
              "Hot chocolate     590\n",
              "Cookies           540\n",
              "Brownie           379\n",
              "Name: Item, dtype: int64"
            ]
          },
          "metadata": {
            "tags": []
          },
          "execution_count": 16
        }
      ]
    },
    {
      "cell_type": "markdown",
      "metadata": {
        "id": "4CAwaC-aRud6"
      },
      "source": [
        "**Visualizing Using Chart**"
      ]
    },
    {
      "cell_type": "code",
      "metadata": {
        "colab": {
          "base_uri": "https://localhost:8080/",
          "height": 368
        },
        "id": "gdOXsJwCRyJi",
        "outputId": "8a080d9d-d8d6-4109-a90b-c9988e4abb34"
      },
      "source": [
        "sns.set(style = 'whitegrid')\n",
        "toptenbar = topten.plot.bar(title = 'Top 10 Sales')\n",
        "toptenbar.legend(['Number of items sold'])"
      ],
      "execution_count": 17,
      "outputs": [
        {
          "output_type": "execute_result",
          "data": {
            "text/plain": [
              "<matplotlib.legend.Legend at 0x7fc202650f90>"
            ]
          },
          "metadata": {
            "tags": []
          },
          "execution_count": 17
        },
        {
          "output_type": "display_data",
          "data": {
            "image/png": "[encoded data removed]",
            "text/plain": [
              "<Figure size 432x288 with 1 Axes>"
            ]
          },
          "metadata": {
            "tags": []
          }
        }
      ]
    },
    {
      "cell_type": "markdown",
      "metadata": {
        "id": "2Re6O2RcR1cB"
      },
      "source": [
        "**Let's See Another Insight**"
      ]
    },
    {
      "cell_type": "code",
      "metadata": {
        "colab": {
          "base_uri": "https://localhost:8080/",
          "height": 343
        },
        "id": "R2DjCi-3R4au",
        "outputId": "abc99f1b-14cb-4362-b45d-14f3e775cf9a"
      },
      "source": [
        "coffeesales = df[df['Item'] == 'Coffee']\n",
        "coffeesales.head(10)"
      ],
      "execution_count": 18,
      "outputs": [
        {
          "output_type": "execute_result",
          "data": {
            "text/html": [
              "<div>\n",
              "<style scoped>\n",
              "    .dataframe tbody tr th:only-of-type {\n",
              "        vertical-align: middle;\n",
              "    }\n",
              "\n",
              "    .dataframe tbody tr th {\n",
              "        vertical-align: top;\n",
              "    }\n",
              "\n",
              "    .dataframe thead th {\n",
              "        text-align: right;\n",
              "    }\n",
              "</style>\n",
              "<table border=\"1\" class=\"dataframe\">\n",
              "  <thead>\n",
              "    <tr style=\"text-align: right;\">\n",
              "      <th></th>\n",
              "      <th>Date</th>\n",
              "      <th>Time</th>\n",
              "      <th>Transaction</th>\n",
              "      <th>Item</th>\n",
              "      <th>Year</th>\n",
              "      <th>Month</th>\n",
              "      <th>Day</th>\n",
              "      <th>Hour</th>\n",
              "    </tr>\n",
              "  </thead>\n",
              "  <tbody>\n",
              "    <tr>\n",
              "      <th>7</th>\n",
              "      <td>2016-10-30</td>\n",
              "      <td>10:13:03</td>\n",
              "      <td>5</td>\n",
              "      <td>Coffee</td>\n",
              "      <td>2016</td>\n",
              "      <td>10</td>\n",
              "      <td>30</td>\n",
              "      <td>10</td>\n",
              "    </tr>\n",
              "    <tr>\n",
              "      <th>15</th>\n",
              "      <td>2016-10-30</td>\n",
              "      <td>10:19:12</td>\n",
              "      <td>7</td>\n",
              "      <td>Coffee</td>\n",
              "      <td>2016</td>\n",
              "      <td>10</td>\n",
              "      <td>30</td>\n",
              "      <td>10</td>\n",
              "    </tr>\n",
              "    <tr>\n",
              "      <th>28</th>\n",
              "      <td>2016-10-30</td>\n",
              "      <td>10:30:14</td>\n",
              "      <td>12</td>\n",
              "      <td>Coffee</td>\n",
              "      <td>2016</td>\n",
              "      <td>10</td>\n",
              "      <td>30</td>\n",
              "      <td>10</td>\n",
              "    </tr>\n",
              "    <tr>\n",
              "      <th>34</th>\n",
              "      <td>2016-10-30</td>\n",
              "      <td>10:31:24</td>\n",
              "      <td>13</td>\n",
              "      <td>Coffee</td>\n",
              "      <td>2016</td>\n",
              "      <td>10</td>\n",
              "      <td>30</td>\n",
              "      <td>10</td>\n",
              "    </tr>\n",
              "    <tr>\n",
              "      <th>44</th>\n",
              "      <td>2016-10-30</td>\n",
              "      <td>10:37:08</td>\n",
              "      <td>16</td>\n",
              "      <td>Coffee</td>\n",
              "      <td>2016</td>\n",
              "      <td>10</td>\n",
              "      <td>30</td>\n",
              "      <td>10</td>\n",
              "    </tr>\n",
              "    <tr>\n",
              "      <th>51</th>\n",
              "      <td>2016-10-30</td>\n",
              "      <td>10:49:29</td>\n",
              "      <td>21</td>\n",
              "      <td>Coffee</td>\n",
              "      <td>2016</td>\n",
              "      <td>10</td>\n",
              "      <td>30</td>\n",
              "      <td>10</td>\n",
              "    </tr>\n",
              "    <tr>\n",
              "      <th>52</th>\n",
              "      <td>2016-10-30</td>\n",
              "      <td>10:49:29</td>\n",
              "      <td>21</td>\n",
              "      <td>Coffee</td>\n",
              "      <td>2016</td>\n",
              "      <td>10</td>\n",
              "      <td>30</td>\n",
              "      <td>10</td>\n",
              "    </tr>\n",
              "    <tr>\n",
              "      <th>62</th>\n",
              "      <td>2016-10-30</td>\n",
              "      <td>11:03:24</td>\n",
              "      <td>28</td>\n",
              "      <td>Coffee</td>\n",
              "      <td>2016</td>\n",
              "      <td>10</td>\n",
              "      <td>30</td>\n",
              "      <td>11</td>\n",
              "    </tr>\n",
              "    <tr>\n",
              "      <th>71</th>\n",
              "      <td>2016-10-30</td>\n",
              "      <td>11:22:49</td>\n",
              "      <td>33</td>\n",
              "      <td>Coffee</td>\n",
              "      <td>2016</td>\n",
              "      <td>10</td>\n",
              "      <td>30</td>\n",
              "      <td>11</td>\n",
              "    </tr>\n",
              "    <tr>\n",
              "      <th>72</th>\n",
              "      <td>2016-10-30</td>\n",
              "      <td>11:25:45</td>\n",
              "      <td>34</td>\n",
              "      <td>Coffee</td>\n",
              "      <td>2016</td>\n",
              "      <td>10</td>\n",
              "      <td>30</td>\n",
              "      <td>11</td>\n",
              "    </tr>\n",
              "  </tbody>\n",
              "</table>\n",
              "</div>"
            ],
            "text/plain": [
              "          Date      Time  Transaction    Item  Year Month Day  Hour\n",
              "7   2016-10-30  10:13:03            5  Coffee  2016    10  30    10\n",
              "15  2016-10-30  10:19:12            7  Coffee  2016    10  30    10\n",
              "28  2016-10-30  10:30:14           12  Coffee  2016    10  30    10\n",
              "34  2016-10-30  10:31:24           13  Coffee  2016    10  30    10\n",
              "44  2016-10-30  10:37:08           16  Coffee  2016    10  30    10\n",
              "51  2016-10-30  10:49:29           21  Coffee  2016    10  30    10\n",
              "52  2016-10-30  10:49:29           21  Coffee  2016    10  30    10\n",
              "62  2016-10-30  11:03:24           28  Coffee  2016    10  30    11\n",
              "71  2016-10-30  11:22:49           33  Coffee  2016    10  30    11\n",
              "72  2016-10-30  11:25:45           34  Coffee  2016    10  30    11"
            ]
          },
          "metadata": {
            "tags": []
          },
          "execution_count": 18
        }
      ]
    },
    {
      "cell_type": "markdown",
      "metadata": {
        "id": "lnRWgCbTR7lP"
      },
      "source": [
        "**Other Coffee Transaction Information**"
      ]
    },
    {
      "cell_type": "code",
      "metadata": {
        "colab": {
          "base_uri": "https://localhost:8080/"
        },
        "id": "vnKE6rm5R-r2",
        "outputId": "30669ac9-6c1a-48eb-9eb1-f7fac8e128e0"
      },
      "source": [
        "coffeeTime = coffeesales['Hour'].value_counts()\n",
        "coffeeTime = coffeesales['Hour'].value_counts().sort_index()\n",
        "coffeeTime"
      ],
      "execution_count": 19,
      "outputs": [
        {
          "output_type": "execute_result",
          "data": {
            "text/plain": [
              "7      13\n",
              "8     199\n",
              "9     583\n",
              "10    820\n",
              "11    946\n",
              "12    740\n",
              "13    607\n",
              "14    636\n",
              "15    519\n",
              "16    321\n",
              "17     69\n",
              "18     11\n",
              "19      6\n",
              "20      1\n",
              "Name: Hour, dtype: int64"
            ]
          },
          "metadata": {
            "tags": []
          },
          "execution_count": 19
        }
      ]
    },
    {
      "cell_type": "markdown",
      "metadata": {
        "id": "CScYGOZoSBAi"
      },
      "source": [
        "**More Visualization**"
      ]
    },
    {
      "cell_type": "code",
      "metadata": {
        "colab": {
          "base_uri": "https://localhost:8080/",
          "height": 322
        },
        "id": "FxjPf65-SDzV",
        "outputId": "b2ca9f20-908f-44b3-9695-e86b6bc20988"
      },
      "source": [
        "sns.set(style = 'whitegrid')\n",
        "coffeetimebar = coffeeTime.plot.bar(title = 'Coffee Sales by Hour')\n",
        "coffeetimebar.set_xlabel('Time of day')\n",
        "coffeetimebar.set_ylabel('Number of coffee solid')"
      ],
      "execution_count": 20,
      "outputs": [
        {
          "output_type": "execute_result",
          "data": {
            "text/plain": [
              "Text(0, 0.5, 'Number of coffee solid')"
            ]
          },
          "metadata": {
            "tags": []
          },
          "execution_count": 20
        },
        {
          "output_type": "display_data",
          "data": {
            "image/png": "[encoded data removed]",
            "text/plain": [
              "<Figure size 432x288 with 1 Axes>"
            ]
          },
          "metadata": {
            "tags": []
          }
        }
      ]
    },
    {
      "cell_type": "markdown",
      "metadata": {
        "id": "Sxk3IHNWSGi0"
      },
      "source": [
        "**NOVIAN NURROHMAN-TI3H**\n"
      ]
    },
    {
      "cell_type": "code",
      "metadata": {
        "id": "bC4tClcLSk-_"
      },
      "source": [
        ""
      ],
      "execution_count": null,
      "outputs": []
    }
  ]
}