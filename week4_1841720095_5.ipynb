{
  "nbformat": 4,
  "nbformat_minor": 0,
  "metadata": {
    "colab": {
      "name": "week4-1841720095-5.ipynb",
      "provenance": [],
      "authorship_tag": "ABX9TyPAIE01+J0SPhJXJRum+Snz",
      "include_colab_link": true
    },
    "kernelspec": {
      "name": "python3",
      "display_name": "Python 3"
    }
  },
  "cells": [
    {
      "cell_type": "markdown",
      "metadata": {
        "id": "view-in-github",
        "colab_type": "text"
      },
      "source": [
        "<a href=\"https://colab.research.google.com/github/noviannurrohman/TeknologiData-smt6/blob/main/week4_1841720095_5.ipynb\" target=\"_parent\"><img src=\"https://colab.research.google.com/assets/colab-badge.svg\" alt=\"Open In Colab\"/></a>"
      ]
    },
    {
      "cell_type": "code",
      "metadata": {
        "colab": {
          "base_uri": "https://localhost:8080/"
        },
        "id": "itpaiiTdipK0",
        "outputId": "522a715f-f822-4373-e0e5-4e34887a1a8f"
      },
      "source": [
        "from google.colab import drive\r\n",
        "drive.mount('/content/drive')"
      ],
      "execution_count": 1,
      "outputs": [
        {
          "output_type": "stream",
          "text": [
            "Mounted at /content/drive\n"
          ],
          "name": "stdout"
        }
      ]
    },
    {
      "cell_type": "code",
      "metadata": {
        "colab": {
          "base_uri": "https://localhost:8080/"
        },
        "id": "TuRaYqlzi4Ll",
        "outputId": "2920f728-792f-4732-bfff-3fbceb61a400"
      },
      "source": [
        "import pandas as pd\r\n",
        "\r\n",
        "df = pd.read_csv('/content/drive/MyDrive/TDATA/flight_delays.csv', index_col = \"Month\")\r\n",
        "df.info()\r\n",
        "print(df.head())\r\n",
        "print(df.tail())\r\n",
        "print(df.isnull().sum())\r\n",
        "print(df[df['US'].isnull()])"
      ],
      "execution_count": 2,
      "outputs": [
        {
          "output_type": "stream",
          "text": [
            "<class 'pandas.core.frame.DataFrame'>\n",
            "Int64Index: 12 entries, 1 to 12\n",
            "Data columns (total 14 columns):\n",
            " #   Column  Non-Null Count  Dtype  \n",
            "---  ------  --------------  -----  \n",
            " 0   AA      12 non-null     float64\n",
            " 1   AS      12 non-null     float64\n",
            " 2   B6      12 non-null     float64\n",
            " 3   DL      12 non-null     float64\n",
            " 4   EV      12 non-null     float64\n",
            " 5   F9      12 non-null     float64\n",
            " 6   HA      12 non-null     float64\n",
            " 7   MQ      12 non-null     float64\n",
            " 8   NK      12 non-null     float64\n",
            " 9   OO      12 non-null     float64\n",
            " 10  UA      12 non-null     float64\n",
            " 11  US      6 non-null      float64\n",
            " 12  VX      12 non-null     float64\n",
            " 13  WN      12 non-null     float64\n",
            "dtypes: float64(14)\n",
            "memory usage: 1.4 KB\n",
            "             AA        AS         B6  ...        US        VX        WN\n",
            "Month                                 ...                              \n",
            "1      6.955843 -0.320888   7.347281  ...  3.107457  1.420702  3.389466\n",
            "2      7.530204 -0.782923  18.657673  ...  7.114455  7.784410  3.501363\n",
            "3      6.693587 -0.544731  10.741317  ...  3.330787  5.348207  3.263341\n",
            "4      4.931778 -3.009003   2.780105  ...  2.660290  0.995507  2.996399\n",
            "5      5.173878 -1.716398  -0.709019  ...  0.681605  7.102021  5.680777\n",
            "\n",
            "[5 rows x 14 columns]\n",
            "             AA        AS         B6  ...  US         VX        WN\n",
            "Month                                 ...                         \n",
            "8      3.193907  2.503899   9.280950  ... NaN   5.106221  5.532108\n",
            "9     -1.432732 -1.813800   3.539154  ... NaN   0.070998 -1.336260\n",
            "10    -0.580930 -2.993617   3.676787  ... NaN   2.254278 -0.688851\n",
            "11     0.772630 -1.916516   1.418299  ... NaN   0.116370  0.995684\n",
            "12     4.149684 -1.846681  13.839290  ... NaN  13.498720  6.720893\n",
            "\n",
            "[5 rows x 14 columns]\n",
            "AA    0\n",
            "AS    0\n",
            "B6    0\n",
            "DL    0\n",
            "EV    0\n",
            "F9    0\n",
            "HA    0\n",
            "MQ    0\n",
            "NK    0\n",
            "OO    0\n",
            "UA    0\n",
            "US    6\n",
            "VX    0\n",
            "WN    0\n",
            "dtype: int64\n",
            "             AA        AS         B6  ...  US         VX         WN\n",
            "Month                                 ...                          \n",
            "7      3.870440  0.377408   5.841454  ... NaN   7.135773  10.504942\n",
            "8      3.193907  2.503899   9.280950  ... NaN   5.106221   5.532108\n",
            "9     -1.432732 -1.813800   3.539154  ... NaN   0.070998  -1.336260\n",
            "10    -0.580930 -2.993617   3.676787  ... NaN   2.254278  -0.688851\n",
            "11     0.772630 -1.916516   1.418299  ... NaN   0.116370   0.995684\n",
            "12     4.149684 -1.846681  13.839290  ... NaN  13.498720   6.720893\n",
            "\n",
            "[6 rows x 14 columns]\n"
          ],
          "name": "stdout"
        }
      ]
    }
  ]
}