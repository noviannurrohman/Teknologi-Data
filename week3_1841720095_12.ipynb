{
  "nbformat": 4,
  "nbformat_minor": 0,
  "metadata": {
    "colab": {
      "name": "week3-1841720095-12.ipynb",
      "provenance": [],
      "authorship_tag": "ABX9TyMZTXn0/bMswpG/HjpgaVDI",
      "include_colab_link": true
    },
    "kernelspec": {
      "name": "python3",
      "display_name": "Python 3"
    }
  },
  "cells": [
    {
      "cell_type": "markdown",
      "metadata": {
        "id": "view-in-github",
        "colab_type": "text"
      },
      "source": [
        "<a href=\"https://colab.research.google.com/github/noviannurrohman/TeknologiData-smt6/blob/main/week3_1841720095_12.ipynb\" target=\"_parent\"><img src=\"https://colab.research.google.com/assets/colab-badge.svg\" alt=\"Open In Colab\"/></a>"
      ]
    },
    {
      "cell_type": "code",
      "metadata": {
        "colab": {
          "base_uri": "https://localhost:8080/"
        },
        "id": "FnAyt2BJu0Hq",
        "outputId": "a801a20d-918e-4bfe-a47c-a5e764c9d3bf"
      },
      "source": [
        "# 'Double' in Single\r\n",
        "print('\"Double\" in Single')\r\n",
        "\r\n",
        "# \"Double\" in Double\r\n",
        "print(\"\\\"Double\\\" in Double\")"
      ],
      "execution_count": 1,
      "outputs": [
        {
          "output_type": "stream",
          "text": [
            "\"Double\" in Single\n",
            "\"Double\" in Double\n"
          ],
          "name": "stdout"
        }
      ]
    }
  ]
}