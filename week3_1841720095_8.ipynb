{
  "nbformat": 4,
  "nbformat_minor": 0,
  "metadata": {
    "colab": {
      "name": "week3-1841720095-8.ipynb",
      "provenance": [],
      "authorship_tag": "ABX9TyMUQtENpjCi7JRODx5lv21b",
      "include_colab_link": true
    },
    "kernelspec": {
      "name": "python3",
      "display_name": "Python 3"
    }
  },
  "cells": [
    {
      "cell_type": "markdown",
      "metadata": {
        "id": "view-in-github",
        "colab_type": "text"
      },
      "source": [
        "<a href=\"https://colab.research.google.com/github/noviannurrohman/TeknologiData-smt6/blob/main/week3_1841720095_8.ipynb\" target=\"_parent\"><img src=\"https://colab.research.google.com/assets/colab-badge.svg\" alt=\"Open In Colab\"/></a>"
      ]
    },
    {
      "cell_type": "code",
      "metadata": {
        "colab": {
          "base_uri": "https://localhost:8080/"
        },
        "id": "a_DuQcD0tTOx",
        "outputId": "9fab6a33-59c4-4051-98ae-bd0f0cbfb23d"
      },
      "source": [
        "x = None \r\n",
        "print(type(x))  #output : NoneType\r\n",
        "\r\n",
        "print(x == None) # output : True\r\n",
        "print(x) #output: None"
      ],
      "execution_count": 1,
      "outputs": [
        {
          "output_type": "stream",
          "text": [
            "<class 'NoneType'>\n",
            "True\n",
            "None\n"
          ],
          "name": "stdout"
        }
      ]
    }
  ]
}