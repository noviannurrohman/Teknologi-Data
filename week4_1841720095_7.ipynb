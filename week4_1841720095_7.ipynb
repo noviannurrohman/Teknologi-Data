{
  "nbformat": 4,
  "nbformat_minor": 0,
  "metadata": {
    "colab": {
      "name": "week4-1841720095-7.ipynb",
      "provenance": [],
      "authorship_tag": "ABX9TyN2rXXc6xQd+r0R12Lb+glV",
      "include_colab_link": true
    },
    "kernelspec": {
      "name": "python3",
      "display_name": "Python 3"
    }
  },
  "cells": [
    {
      "cell_type": "markdown",
      "metadata": {
        "id": "view-in-github",
        "colab_type": "text"
      },
      "source": [
        "<a href=\"https://colab.research.google.com/github/noviannurrohman/TeknologiData-smt6/blob/main/week4_1841720095_7.ipynb\" target=\"_parent\"><img src=\"https://colab.research.google.com/assets/colab-badge.svg\" alt=\"Open In Colab\"/></a>"
      ]
    },
    {
      "cell_type": "code",
      "metadata": {
        "colab": {
          "base_uri": "https://localhost:8080/"
        },
        "id": "-fQ8GhE2jsNN",
        "outputId": "2e82e74c-a646-4d9f-a898-f6145f1e48a0"
      },
      "source": [
        "from google.colab import drive\r\n",
        "drive.mount('/content/drive')"
      ],
      "execution_count": 1,
      "outputs": [
        {
          "output_type": "stream",
          "text": [
            "Mounted at /content/drive\n"
          ],
          "name": "stdout"
        }
      ]
    },
    {
      "cell_type": "code",
      "metadata": {
        "colab": {
          "base_uri": "https://localhost:8080/"
        },
        "id": "3YbrwdNSj6jZ",
        "outputId": "8a8ec34f-e068-4b38-f55f-e1154bb26d5e"
      },
      "source": [
        "import pandas as pd\r\n",
        "df= pd.read_excel('/content/drive/MyDrive/TDATA/OnlineRetail.xlsx')\r\n",
        "df.info()\r\n",
        "print(df.isnull().any())\r\n",
        "print(df.isnull().sum())\r\n",
        "print(df[df['Description'].isnull()].head())\r\n",
        "print(df[df['CustomerID'].isnull()].head())\r\n",
        "\r\n",
        "dfcleaned = df.dropna(axis=0)\r\n",
        "\r\n",
        "print('df: ', len(df), '|', 'dfcleaned: ', len(dfcleaned))\r\n",
        "print('df - dfcleaned = ' , len(df)-len(dfcleaned))\r\n",
        "\r\n",
        "print(dfcleaned[dfcleaned['UnitPrice']<=0.0].head())"
      ],
      "execution_count": 2,
      "outputs": [
        {
          "output_type": "stream",
          "text": [
            "<class 'pandas.core.frame.DataFrame'>\n",
            "RangeIndex: 207719 entries, 0 to 207718\n",
            "Data columns (total 8 columns):\n",
            " #   Column       Non-Null Count   Dtype         \n",
            "---  ------       --------------   -----         \n",
            " 0   InvoiceNo    207719 non-null  object        \n",
            " 1   StockCode    207719 non-null  object        \n",
            " 2   Description  206886 non-null  object        \n",
            " 3   Quantity     207719 non-null  int64         \n",
            " 4   InvoiceDate  207719 non-null  datetime64[ns]\n",
            " 5   UnitPrice    207719 non-null  float64       \n",
            " 6   CustomerID   148101 non-null  float64       \n",
            " 7   Country      207719 non-null  object        \n",
            "dtypes: datetime64[ns](1), float64(2), int64(1), object(4)\n",
            "memory usage: 12.7+ MB\n",
            "InvoiceNo      False\n",
            "StockCode      False\n",
            "Description     True\n",
            "Quantity       False\n",
            "InvoiceDate    False\n",
            "UnitPrice      False\n",
            "CustomerID      True\n",
            "Country        False\n",
            "dtype: bool\n",
            "InvoiceNo          0\n",
            "StockCode          0\n",
            "Description      833\n",
            "Quantity           0\n",
            "InvoiceDate        0\n",
            "UnitPrice          0\n",
            "CustomerID     59618\n",
            "Country            0\n",
            "dtype: int64\n",
            "     InvoiceNo StockCode Description  ...  UnitPrice CustomerID         Country\n",
            "622     536414     22139         NaN  ...        0.0        NaN  United Kingdom\n",
            "1970    536545     21134         NaN  ...        0.0        NaN  United Kingdom\n",
            "1971    536546     22145         NaN  ...        0.0        NaN  United Kingdom\n",
            "1972    536547     37509         NaN  ...        0.0        NaN  United Kingdom\n",
            "1987    536549    85226A         NaN  ...        0.0        NaN  United Kingdom\n",
            "\n",
            "[5 rows x 8 columns]\n",
            "     InvoiceNo StockCode  ... CustomerID         Country\n",
            "622     536414     22139  ...        NaN  United Kingdom\n",
            "1443    536544     21773  ...        NaN  United Kingdom\n",
            "1444    536544     21774  ...        NaN  United Kingdom\n",
            "1445    536544     21786  ...        NaN  United Kingdom\n",
            "1446    536544     21787  ...        NaN  United Kingdom\n",
            "\n",
            "[5 rows x 8 columns]\n",
            "df:  207719 | dfcleaned:  148101\n",
            "df - dfcleaned =  59618\n",
            "      InvoiceNo StockCode  ... CustomerID         Country\n",
            "9302     537197     22841  ...    12647.0         Germany\n",
            "33576    539263     22580  ...    16560.0  United Kingdom\n",
            "40089    539722     22423  ...    14911.0            EIRE\n",
            "47068    540372     22090  ...    13081.0  United Kingdom\n",
            "47070    540372     22553  ...    13081.0  United Kingdom\n",
            "\n",
            "[5 rows x 8 columns]\n"
          ],
          "name": "stdout"
        }
      ]
    }
  ]
}