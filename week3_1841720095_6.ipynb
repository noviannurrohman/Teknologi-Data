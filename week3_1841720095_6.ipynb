{
  "nbformat": 4,
  "nbformat_minor": 0,
  "metadata": {
    "colab": {
      "name": "week3-1841720095-6.ipynb",
      "provenance": [],
      "authorship_tag": "ABX9TyMC4IVUjtOKdvq8MIXWx7cN",
      "include_colab_link": true
    },
    "kernelspec": {
      "name": "python3",
      "display_name": "Python 3"
    }
  },
  "cells": [
    {
      "cell_type": "markdown",
      "metadata": {
        "id": "view-in-github",
        "colab_type": "text"
      },
      "source": [
        "<a href=\"https://colab.research.google.com/github/noviannurrohman/TeknologiData-smt6/blob/main/week3_1841720095_6.ipynb\" target=\"_parent\"><img src=\"https://colab.research.google.com/assets/colab-badge.svg\" alt=\"Open In Colab\"/></a>"
      ]
    },
    {
      "cell_type": "code",
      "metadata": {
        "colab": {
          "base_uri": "https://localhost:8080/"
        },
        "id": "ygmA3n5BswKh",
        "outputId": "bca9c31a-8076-4b78-9391-379a8d0a14fa"
      },
      "source": [
        "counter = 100   #integer value assigment\r\n",
        "jarak = 104.5   # floating point value\r\n",
        "name= \"nina\"    # the name variable stores a String value\r\n",
        "\r\n",
        "# multiple assigment in one command line :\r\n",
        "a = b = c = 200\r\n",
        "name, city, salary = \"Sabine\", 'Surabaya' , 70000\r\n",
        "\r\n",
        "print(counter)\r\n",
        "print(jarak)\r\n",
        "print(name)\r\n",
        "print(a, b, c)\r\n",
        "print(city)"
      ],
      "execution_count": 1,
      "outputs": [
        {
          "output_type": "stream",
          "text": [
            "100\n",
            "104.5\n",
            "Sabine\n",
            "200 200 200\n",
            "Surabaya\n"
          ],
          "name": "stdout"
        }
      ]
    }
  ]
}